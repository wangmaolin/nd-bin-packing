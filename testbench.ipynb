{
 "cells": [
  {
   "cell_type": "code",
   "execution_count": 2,
   "metadata": {},
   "outputs": [],
   "source": [
    "import numpy as np\n",
    "\n",
    "from vector_packing import cvx_condense\n",
    "from vector_packing import brute_force_condense\n",
    "\n",
    "import warnings\n",
    "warnings.filterwarnings(\"ignore\")\n",
    "\n",
    "%load_ext autoreload\n",
    "%autoreload 2"
   ]
  },
  {
   "cell_type": "code",
   "execution_count": 12,
   "metadata": {},
   "outputs": [
    {
     "name": "stdout",
     "output_type": "stream",
     "text": [
      "[[0 0 0 0 0 0 0 0 0 0 0 0 0 1 0 0]\n",
      " [0 0 0 0 1 1 0 0 1 1 0 0 0 1 0 0]\n",
      " [1 0 0 0 0 1 0 1 1 0 0 1 0 0 1 0]\n",
      " [0 0 0 0 0 0 0 0 0 0 0 0 0 0 0 0]\n",
      " [0 0 0 0 1 0 1 0 0 1 0 0 1 0 1 0]\n",
      " [1 0 1 0 0 1 0 1 0 0 0 1 0 0 0 0]\n",
      " [1 0 0 0 0 0 1 0 1 0 0 1 0 1 0 0]\n",
      " [1 0 0 1 1 1 0 0 0 0 0 0 1 0 0 1]\n",
      " [0 0 0 1 0 0 1 0 1 0 1 0 0 0 0 0]\n",
      " [0 0 0 0 0 0 0 1 0 0 0 0 0 0 1 1]]\n"
     ]
    }
   ],
   "source": [
    "\"\"\" For reproducing results\"\"\"\n",
    "np.random.seed(1)\n",
    "\n",
    "\"\"\" N-dimensional bin packing problem input data\"\"\"\n",
    "# vec_length = 60000\n",
    "vec_length = 10\n",
    "density_setup = 0.25\n",
    "vt_bit_map = np.random.binomial(1, density_setup, (vec_length, 16)).astype(np.uint32)\n",
    "print(vt_bit_map)"
   ]
  },
  {
   "cell_type": "code",
   "execution_count": 13,
   "metadata": {},
   "outputs": [
    {
     "name": "stdout",
     "output_type": "stream",
     "text": [
      "N_BOXES USED:  6\n"
     ]
    },
    {
     "data": {
      "text/plain": [
       "array([0, 1, 0, 1, 2, 2, 3, 4, 5, 5])"
      ]
     },
     "execution_count": 13,
     "metadata": {},
     "output_type": "execute_result"
    }
   ],
   "source": [
    "brute_force_condense(vt_bit_map)"
   ]
  },
  {
   "cell_type": "code",
   "execution_count": 23,
   "metadata": {},
   "outputs": [
    {
     "name": "stdout",
     "output_type": "stream",
     "text": [
      "===============================================================================\n",
      "                                     CVXPY                                     \n",
      "                                     v1.2.1                                    \n",
      "===============================================================================\n",
      "(CVXPY) Sep 22 05:46:49 PM: Your problem has 110 variables, 18 constraints, and 0 parameters.\n",
      "(CVXPY) Sep 22 05:46:49 PM: It is compliant with the following grammars: DCP, DQCP\n",
      "(CVXPY) Sep 22 05:46:49 PM: (If you need to solve this problem multiple times, but with different data, consider using parameters.)\n",
      "(CVXPY) Sep 22 05:46:49 PM: CVXPY will first compile your problem; then, it will invoke a numerical solver to obtain a solution.\n",
      "-------------------------------------------------------------------------------\n",
      "                                  Compilation                                  \n",
      "-------------------------------------------------------------------------------\n",
      "(CVXPY) Sep 22 05:46:49 PM: Compiling problem (target solver=CBC).\n",
      "(CVXPY) Sep 22 05:46:49 PM: Reduction chain: Dcp2Cone -> CvxAttr2Constr -> ConeMatrixStuffing -> CBC\n",
      "(CVXPY) Sep 22 05:46:49 PM: Applying reduction Dcp2Cone\n",
      "(CVXPY) Sep 22 05:46:49 PM: Applying reduction CvxAttr2Constr\n",
      "(CVXPY) Sep 22 05:46:49 PM: Applying reduction ConeMatrixStuffing\n",
      "(CVXPY) Sep 22 05:46:49 PM: Applying reduction CBC\n",
      "(CVXPY) Sep 22 05:46:49 PM: Finished problem compilation (took 3.420e-02 seconds).\n",
      "-------------------------------------------------------------------------------\n",
      "                                Numerical solver                               \n",
      "-------------------------------------------------------------------------------\n",
      "(CVXPY) Sep 22 05:46:49 PM: Invoking solver CBC  to obtain a solution.\n",
      "-------------------------------------------------------------------------------\n",
      "                                    Summary                                    \n",
      "-------------------------------------------------------------------------------\n",
      "(CVXPY) Sep 22 05:46:49 PM: Problem status: optimal\n",
      "(CVXPY) Sep 22 05:46:49 PM: Optimal value: 6.000e+00\n",
      "(CVXPY) Sep 22 05:46:49 PM: Compilation took 3.420e-02 seconds\n",
      "(CVXPY) Sep 22 05:46:49 PM: Solver (including time spent in interface) took 3.567e-02 seconds\n",
      "time used (cvxpys reductions & solving):  0.0816449549747631\n",
      "optimal\n",
      "N_BOXES USED:  6\n"
     ]
    },
    {
     "data": {
      "text/plain": [
       "array([4, 5, 3, 2, 7, 2, 1, 4, 2, 5], dtype=int32)"
      ]
     },
     "execution_count": 23,
     "metadata": {},
     "output_type": "execute_result"
    }
   ],
   "source": [
    "cvx_condense(vt_bit_map)"
   ]
  },
  {
   "cell_type": "code",
   "execution_count": null,
   "metadata": {},
   "outputs": [],
   "source": []
  }
 ],
 "metadata": {
  "kernelspec": {
   "display_name": "Python 3.9.12 ('base')",
   "language": "python",
   "name": "python3"
  },
  "language_info": {
   "codemirror_mode": {
    "name": "ipython",
    "version": 3
   },
   "file_extension": ".py",
   "mimetype": "text/x-python",
   "name": "python",
   "nbconvert_exporter": "python",
   "pygments_lexer": "ipython3",
   "version": "3.9.12"
  },
  "orig_nbformat": 4,
  "vscode": {
   "interpreter": {
    "hash": "7b55cb1c927226813825cd0be04acd9b44a3858c6d8f4290c7d5b80fbc72630c"
   }
  }
 },
 "nbformat": 4,
 "nbformat_minor": 2
}
